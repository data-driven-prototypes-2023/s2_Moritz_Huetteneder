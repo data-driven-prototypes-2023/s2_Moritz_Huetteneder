{
 "cells": [
  {
   "cell_type": "code",
   "execution_count": 12,
   "metadata": {},
   "outputs": [
    {
     "name": "stdout",
     "output_type": "stream",
     "text": [
      "Data loaded successfully\n",
      "<class 'pandas.core.frame.DataFrame'>\n",
      "RangeIndex: 10586 entries, 0 to 10585\n",
      "Data columns (total 42 columns):\n",
      " #   Column                       Non-Null Count  Dtype  \n",
      "---  ------                       --------------  -----  \n",
      " 0   Fat Unit                     10586 non-null  object \n",
      " 1   Categories                   10586 non-null  object \n",
      " 2   Food Groups Tags             10586 non-null  object \n",
      " 3   Nutrition Data Prepared Per  10586 non-null  object \n",
      " 4   Countries                    10586 non-null  object \n",
      " 5   Categories Tags              10586 non-null  object \n",
      " 6   Sugars (g)                   10586 non-null  float64\n",
      " 7   Proteins (g)                 10586 non-null  float64\n",
      " 8   Proteins Unit                10586 non-null  object \n",
      " 9   Nutriscore Grade             10586 non-null  object \n",
      " 10  Nutriscore Score             10586 non-null  float64\n",
      " 11  Ingredients Origin Score     10586 non-null  float64\n",
      " 12  Saturated Fat (g)            10586 non-null  float64\n",
      " 13  Ecoscore                     10586 non-null  float64\n",
      " 14  Salt (g)                     10586 non-null  float64\n",
      " 15  Carbohydrates Unit           10586 non-null  object \n",
      " 16  Food Groups                  10586 non-null  object \n",
      " 17  Energy (kcal)                10586 non-null  float64\n",
      " 18  Brands                       10586 non-null  object \n",
      " 19  Data Sources                 10586 non-null  object \n",
      " 20  Nutrition Data Per           10586 non-null  object \n",
      " 21  Agribalyse Code              10586 non-null  object \n",
      " 22  Non-Recyclable Packaging     10586 non-null  float64\n",
      " 23  Obsolete                     10586 non-null  float64\n",
      " 24  Sugars Unit                  10586 non-null  object \n",
      " 25  Ecoscore Grade               10586 non-null  object \n",
      " 26  Carbohydrates (g)            10586 non-null  float64\n",
      " 27  Energy Unit                  10586 non-null  object \n",
      " 28  Production System Score      10586 non-null  float64\n",
      " 29  Nova Groups Tags             10586 non-null  object \n",
      " 30  Countries Tags               10586 non-null  object \n",
      " 31  Energy Unit (kcal)           10586 non-null  object \n",
      " 32  Sodium Unit                  10586 non-null  object \n",
      " 33  Product Code                 10586 non-null  object \n",
      " 34  Fat (g)                      10586 non-null  float64\n",
      " 35  Saturated Fat Unit           10586 non-null  object \n",
      " 36  Energy Value                 10586 non-null  float64\n",
      " 37  Language Code                10586 non-null  object \n",
      " 38  Sodium (mg)                  10586 non-null  float64\n",
      " 39  Brands Tags                  10586 non-null  object \n",
      " 40  Salt Unit                    10586 non-null  object \n",
      " 41  Packaging Score              10586 non-null  float64\n",
      "dtypes: float64(16), object(26)\n",
      "memory usage: 3.4+ MB\n",
      "None\n"
     ]
    }
   ],
   "source": [
    "import pandas as pd\n",
    "import numpy as np\n",
    "from sklearn.model_selection import train_test_split\n",
    "from sklearn.tree import DecisionTreeClassifier\n",
    "from sklearn.preprocessing import StandardScaler\n",
    "from sklearn.pipeline import Pipeline\n",
    "from sklearn.compose import ColumnTransformer\n",
    "from sklearn.impute import SimpleImputer\n",
    "from sklearn.metrics import classification_report\n",
    "\n",
    "# Load the data\n",
    "data = pd.read_csv('C:/Users/morit/OneDrive/Dokumente/ESADE/Term3/AI Prototypes/Assignment 2/data/beverages_combined.csv')\n",
    "print(\"Data loaded successfully\")\n",
    "print(data.info())"
   ]
  },
  {
   "cell_type": "code",
   "execution_count": 13,
   "metadata": {},
   "outputs": [],
   "source": [
    "# Select relevant features and target\n",
    "features = ['Energy (kcal)', 'Sugars (g)', 'Fat (g)', 'Saturated Fat (g)', 'Salt (g)', 'Proteins (g)']\n",
    "target = 'Nutriscore Grade'\n",
    "\n",
    "# Filter data to include only valid Nutriscore grades\n",
    "valid_grades = ['a', 'b', 'c', 'd', 'e']\n",
    "data_filtered = data[data[target].isin(valid_grades)]\n",
    "\n",
    "# Select features and target from the filtered data\n",
    "X = data_filtered[features]\n",
    "y = data_filtered[target]\n"
   ]
  },
  {
   "cell_type": "code",
   "execution_count": 3,
   "metadata": {},
   "outputs": [],
   "source": [
    "# Define feature columns and target column\n",
    "feature_columns = ['Sugars (g)', 'Proteins (g)', 'Fat (g)', 'Salt (g)', 'Energy (kcal)', 'Categories', 'Brands']\n",
    "target_column = 'Nutriscore Grade'\n",
    "\n",
    "# Separate features and target\n",
    "X = data[feature_columns]\n",
    "y = data[target_column]\n"
   ]
  },
  {
   "cell_type": "code",
   "execution_count": 14,
   "metadata": {},
   "outputs": [
    {
     "name": "stdout",
     "output_type": "stream",
     "text": [
      "Data split into training and testing sets\n"
     ]
    }
   ],
   "source": [
    "# Split the data into training and testing sets\n",
    "X_train, X_test, y_train, y_test = train_test_split(X, y, test_size=0.2, random_state=42)\n",
    "print(\"Data split into training and testing sets\")"
   ]
  },
  {
   "cell_type": "code",
   "execution_count": 15,
   "metadata": {},
   "outputs": [
    {
     "name": "stdout",
     "output_type": "stream",
     "text": [
      "Model trained successfully\n"
     ]
    }
   ],
   "source": [
    "# Preprocessing pipelines for numeric features\n",
    "numeric_features = features\n",
    "numeric_transformer = Pipeline(steps=[\n",
    "    ('imputer', SimpleImputer(strategy='median')),\n",
    "    ('scaler', StandardScaler())\n",
    "])\n",
    "\n",
    "# Preprocessor\n",
    "preprocessor = ColumnTransformer(\n",
    "    transformers=[\n",
    "        ('num', numeric_transformer, numeric_features)\n",
    "    ])\n",
    "\n",
    "# Create a pipeline that preprocesses the data then fits a decision tree model\n",
    "clf = Pipeline(steps=[\n",
    "    ('preprocessor', preprocessor),\n",
    "    ('classifier', DecisionTreeClassifier(random_state=42))\n",
    "])\n",
    "\n",
    "# Train the model\n",
    "clf.fit(X_train, y_train)\n",
    "print(\"Model trained successfully\")"
   ]
  },
  {
   "cell_type": "code",
   "execution_count": 16,
   "metadata": {},
   "outputs": [
    {
     "name": "stdout",
     "output_type": "stream",
     "text": [
      "              precision    recall  f1-score   support\n",
      "\n",
      "           a       0.76      0.94      0.84       287\n",
      "           b       0.87      0.80      0.83       561\n",
      "           c       0.80      0.82      0.81       366\n",
      "           d       0.79      0.82      0.81       327\n",
      "           e       0.87      0.81      0.84       577\n",
      "\n",
      "    accuracy                           0.83      2118\n",
      "   macro avg       0.82      0.84      0.82      2118\n",
      "weighted avg       0.83      0.83      0.83      2118\n",
      "\n"
     ]
    }
   ],
   "source": [
    "# Make predictions on the test set\n",
    "y_pred = clf.predict(X_test)\n",
    "\n",
    "# Evaluate the model\n",
    "print(classification_report(y_test, y_pred))\n"
   ]
  },
  {
   "cell_type": "code",
   "execution_count": 18,
   "metadata": {},
   "outputs": [
    {
     "name": "stdout",
     "output_type": "stream",
     "text": [
      "Model saved successfully\n"
     ]
    }
   ],
   "source": [
    "import joblib\n",
    "\n",
    "# Save the trained model to a file\n",
    "joblib.dump(clf, 'nutriscore_decision_tree_model.pkl')\n",
    "print(\"Model saved successfully\")\n"
   ]
  }
 ],
 "metadata": {
  "kernelspec": {
   "display_name": ".venv",
   "language": "python",
   "name": "python3"
  },
  "language_info": {
   "codemirror_mode": {
    "name": "ipython",
    "version": 3
   },
   "file_extension": ".py",
   "mimetype": "text/x-python",
   "name": "python",
   "nbconvert_exporter": "python",
   "pygments_lexer": "ipython3",
   "version": "3.12.3"
  }
 },
 "nbformat": 4,
 "nbformat_minor": 2
}
